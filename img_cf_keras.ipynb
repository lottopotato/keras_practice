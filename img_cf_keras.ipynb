{
 "cells": [
  {
   "cell_type": "markdown",
   "metadata": {},
   "source": [
    "keras tutorial, image classification at mnist <br>\n",
    "sequential model, functional model <br>\n",
    "https://keras.io/\n",
    "\n"
   ]
  },
  {
   "cell_type": "code",
   "execution_count": 1,
   "metadata": {},
   "outputs": [
    {
     "name": "stdout",
     "output_type": "stream",
     "text": [
      " dataset is shuffled.\n",
      " current train_img shape :  (60000, 28, 28, 1)\n",
      " component \n",
      " 'train_img', 'train_label', 'test_img', 'test_label'\n"
     ]
    }
   ],
   "source": [
    "from mnist_read import load_mnist\n",
    "mnist = load_mnist(shuffle = True)"
   ]
  },
  {
   "cell_type": "code",
   "execution_count": 2,
   "metadata": {},
   "outputs": [
    {
     "name": "stderr",
     "output_type": "stream",
     "text": [
      "Using TensorFlow backend.\n"
     ]
    }
   ],
   "source": [
    "##import keras seqeuntial model.\n",
    "from keras.models import Sequential, Model\n",
    "## import keras layers\n",
    "from keras.layers import *"
   ]
  },
  {
   "cell_type": "code",
   "execution_count": 3,
   "metadata": {},
   "outputs": [],
   "source": [
    "def sequential_model():\n",
    "    ## sqeuential model initial and add layer\n",
    "    model = Sequential()\n",
    "    \n",
    "    #model.add(layer())\n",
    "    # conv1\n",
    "    model.add(Conv2D(filters= 32, kernel_size = (5,5), \n",
    "                         padding = 'same', activation = 'relu', input_shape = (28, 28, 1,)))\n",
    "    # pool1\n",
    "    model.add(MaxPooling2D(pool_size = (2,2)))\n",
    "    # conv2\n",
    "    model.add(Conv2D(filters = 64, kernel_size = (5,5), \n",
    "                         padding = 'same', activation = 'relu'))\n",
    "    # pool2\n",
    "    model.add(MaxPooling2D(pool_size = (2,2)))\n",
    "    # flat\n",
    "    model.add(Flatten())\n",
    "    # dense3\n",
    "    model.add(Dense(units = 256, activation = 'relu'))\n",
    "    # drop out\n",
    "    model.add(Dropout(rate = 0.4))\n",
    "    # dense4\n",
    "    model.add(Dense(units = 10, activation = 'softmax'))\n",
    "    \n",
    "    # model campile\n",
    "    model.compile(optimizer = 'Adam', loss = 'categorical_crossentropy', \n",
    "                      metrics = ['accuracy'])\n",
    "    \n",
    "    # model fit\n",
    "    model.fit(mnist['train_img'], mnist['train_label'],\n",
    "             epochs = 4, batch_size = 100)\n",
    "    \n",
    "    # model evaluate\n",
    "    score = model.evaluate(mnist['test_img'], mnist['test_label'], batch_size = 100)\n",
    "\n",
    "\n"
   ]
  },
  {
   "cell_type": "code",
   "execution_count": 4,
   "metadata": {},
   "outputs": [
    {
     "name": "stdout",
     "output_type": "stream",
     "text": [
      "Epoch 1/4\n",
      "60000/60000 [==============================] - 186s 3ms/step - loss: 0.1641 - acc: 0.9496\n",
      "Epoch 2/4\n",
      "60000/60000 [==============================] - 186s 3ms/step - loss: 0.0420 - acc: 0.9868\n",
      "Epoch 3/4\n",
      "60000/60000 [==============================] - 185s 3ms/step - loss: 0.0271 - acc: 0.9918\n",
      "Epoch 4/4\n",
      "60000/60000 [==============================] - 188s 3ms/step - loss: 0.0199 - acc: 0.9937\n",
      "10000/10000 [==============================] - 11s 1ms/step\n",
      "[0.02267802183938329, 0.9928000062704087]\n"
     ]
    }
   ],
   "source": [
    "sequential_model()"
   ]
  },
  {
   "cell_type": "code",
   "execution_count": 7,
   "metadata": {},
   "outputs": [],
   "source": [
    "def functional_model():\n",
    "    ## functional API model\n",
    "    \n",
    "    #return a tensor\n",
    "    X = Input(shape = (28, 28, 1))\n",
    "    \n",
    "    # conv1\n",
    "    conv1 = Conv2D(filters = 16, kernel_size = (5,5),\n",
    "                  padding = 'same', activation = 'relu')(X)\n",
    "    # pool1\n",
    "    pool1 = MaxPooling2D(pool_size = (2,2))(conv1)\n",
    "    # conv2\n",
    "    conv2 = Conv2D(filters = 32, kernel_size = (5,5),\n",
    "                  padding = 'same', activation = 'relu')(pool1)\n",
    "    # pool2\n",
    "    pool2 = MaxPooling2D(pool_size = (2,2))(conv2)\n",
    "    # flatten\n",
    "    flat = Flatten()(pool2)\n",
    "    # dense3\n",
    "    dense3 = Dense(units = 64, activation = 'relu')(flat)\n",
    "    # dropout\n",
    "    dropout = Dropout(rate = 0.4)(dense3)\n",
    "    # dense4\n",
    "    dense4 = Dense(units = 10, activation = 'softmax')(dropout)\n",
    "    \n",
    "    # model\n",
    "    model = Model(inputs = X, outputs = dense4)\n",
    "    # compile\n",
    "    model.compile(optimizer = 'Adam', loss = 'categorical_crossentropy',\n",
    "                 metrics = ['accuracy'])\n",
    "    # fit\n",
    "    model.fit(mnist['train_img'], mnist['train_label'], epochs = 2, batch_size = 100)\n",
    "    \n",
    "    # evalute\n",
    "    print(model.evaluate(mnist['test_img'], mnist['test_label'], batch_size = 100))\n",
    "    \n",
    "    "
   ]
  },
  {
   "cell_type": "code",
   "execution_count": 8,
   "metadata": {},
   "outputs": [
    {
     "name": "stdout",
     "output_type": "stream",
     "text": [
      "Epoch 1/2\n",
      "60000/60000 [==============================] - 91s 2ms/step - loss: 0.3304 - acc: 0.8982\n",
      "Epoch 2/2\n",
      "60000/60000 [==============================] - 90s 2ms/step - loss: 0.1010 - acc: 0.9702\n",
      "10000/10000 [==============================] - 7s 653us/step\n",
      "[0.0340196265373379, 0.9873000103235244]\n"
     ]
    }
   ],
   "source": [
    "functional_model()"
   ]
  },
  {
   "cell_type": "code",
   "execution_count": null,
   "metadata": {},
   "outputs": [],
   "source": []
  }
 ],
 "metadata": {
  "kernelspec": {
   "display_name": "Python 3",
   "language": "python",
   "name": "python3"
  },
  "language_info": {
   "codemirror_mode": {
    "name": "ipython",
    "version": 3
   },
   "file_extension": ".py",
   "mimetype": "text/x-python",
   "name": "python",
   "nbconvert_exporter": "python",
   "pygments_lexer": "ipython3",
   "version": "3.6.6"
  }
 },
 "nbformat": 4,
 "nbformat_minor": 2
}
